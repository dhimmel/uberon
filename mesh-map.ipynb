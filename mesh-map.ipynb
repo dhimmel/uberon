{
 "cells": [
  {
   "cell_type": "markdown",
   "metadata": {
    "collapsed": false
   },
   "source": [
    "# Mapping UBERON to MeSH"
   ]
  },
  {
   "cell_type": "code",
   "execution_count": 1,
   "metadata": {
    "collapsed": true
   },
   "outputs": [],
   "source": [
    "import json\n",
    "import re\n",
    "\n",
    "import pandas\n",
    "import requests\n",
    "\n",
    "import obo"
   ]
  },
  {
   "cell_type": "markdown",
   "metadata": {},
   "source": [
    "## MeSH tree numbers"
   ]
  },
  {
   "cell_type": "code",
   "execution_count": 2,
   "metadata": {
    "collapsed": true
   },
   "outputs": [],
   "source": [
    "# Read MeSH json\n",
    "url = 'https://raw.githubusercontent.com/dhimmel/mesh/1a1ab7f1d30cb8a21618b5239370863ccb6de547/data/mesh.json'\n",
    "response = requests.get(url)\n",
    "mesh = json.loads(response.text)\n",
    "\n",
    "# Extract (mesh_id, mesh_tree_number) pairs\n",
    "rows = []\n",
    "for term in mesh:\n",
    "    mesh_id = term['mesh_id']\n",
    "    mesh_name = term['mesh_name']\n",
    "    for tree_number in term['tree_numbers']:\n",
    "        rows.append([mesh_id, mesh_name, tree_number])\n",
    "\n",
    "mesh_df = pandas.DataFrame(rows, columns=['mesh_id', 'mesh_name', 'mesh_tree_number'])\n",
    "\n",
    "tn_to_uid = dict(zip(mesh_df.mesh_tree_number, mesh_df.mesh_id))"
   ]
  },
  {
   "cell_type": "markdown",
   "metadata": {},
   "source": [
    "## UBERON"
   ]
  },
  {
   "cell_type": "code",
   "execution_count": 3,
   "metadata": {
    "collapsed": true
   },
   "outputs": [],
   "source": [
    "# Download .obo file\n",
    "#! sh download.sh"
   ]
  },
  {
   "cell_type": "code",
   "execution_count": 4,
   "metadata": {
    "collapsed": true
   },
   "outputs": [],
   "source": [
    "# Read the ontology into a networkx MultiDiGraph\n",
    "with open('download/basic.obo') as obo_file:\n",
    "    ontology = obo.read_obo(obo_file)"
   ]
  },
  {
   "cell_type": "code",
   "execution_count": 5,
   "metadata": {
    "collapsed": true
   },
   "outputs": [],
   "source": [
    "# Parse xrefs and add as node attribute\n",
    "for node, data in ontology.nodes_iter(data=True):\n",
    "    data['xrefs'] = [xref.split(':', 1) for xref in data.get('xref', [])]"
   ]
  },
  {
   "cell_type": "code",
   "execution_count": 6,
   "metadata": {
    "collapsed": false
   },
   "outputs": [],
   "source": [
    "# Extract MeSH cross-references\n",
    "rows = []\n",
    "for node, data in ontology.nodes_iter(data=True):\n",
    "    if not node.startswith('UBERON:'):\n",
    "        continue\n",
    "    xrefs = data['xrefs']\n",
    "    mesh_refs = [ref[1] for ref in xrefs if ref[0] == 'MESH']\n",
    "    if len(mesh_refs) != 1:\n",
    "        continue\n",
    "        \n",
    "    rows.append([node, data['name'], mesh_refs[0]])\n",
    "\n",
    "uberon_mesh_df = pandas.DataFrame(rows, columns=['uberon_id', 'uberon_name', 'mesh_tree_number'])"
   ]
  },
  {
   "cell_type": "code",
   "execution_count": 8,
   "metadata": {
    "collapsed": false
   },
   "outputs": [
    {
     "data": {
      "text/html": [
       "<div style=\"max-height:1000px;max-width:1500px;overflow:auto;\">\n",
       "<table border=\"1\" class=\"dataframe\">\n",
       "  <thead>\n",
       "    <tr style=\"text-align: right;\">\n",
       "      <th></th>\n",
       "      <th>uberon_id</th>\n",
       "      <th>uberon_name</th>\n",
       "      <th>mesh_tree_number</th>\n",
       "    </tr>\n",
       "  </thead>\n",
       "  <tbody>\n",
       "    <tr>\n",
       "      <th>0</th>\n",
       "      <td>UBERON:0014892</td>\n",
       "      <td>skeletal muscle organ</td>\n",
       "      <td>A02.633.567</td>\n",
       "    </tr>\n",
       "    <tr>\n",
       "      <th>1</th>\n",
       "      <td>UBERON:0003133</td>\n",
       "      <td>reproductive organ</td>\n",
       "      <td>A05.360</td>\n",
       "    </tr>\n",
       "    <tr>\n",
       "      <th>2</th>\n",
       "      <td>UBERON:0002606</td>\n",
       "      <td>neuropil</td>\n",
       "      <td>A08.637.500</td>\n",
       "    </tr>\n",
       "    <tr>\n",
       "      <th>3</th>\n",
       "      <td>UBERON:0001310</td>\n",
       "      <td>umbilical artery</td>\n",
       "      <td>A07.231.114.929</td>\n",
       "    </tr>\n",
       "    <tr>\n",
       "      <th>4</th>\n",
       "      <td>UBERON:0000924</td>\n",
       "      <td>ectoderm</td>\n",
       "      <td>A16.254.425.273</td>\n",
       "    </tr>\n",
       "  </tbody>\n",
       "</table>\n",
       "</div>"
      ],
      "text/plain": [
       "        uberon_id            uberon_name mesh_tree_number\n",
       "0  UBERON:0014892  skeletal muscle organ      A02.633.567\n",
       "1  UBERON:0003133     reproductive organ          A05.360\n",
       "2  UBERON:0002606               neuropil      A08.637.500\n",
       "3  UBERON:0001310       umbilical artery  A07.231.114.929\n",
       "4  UBERON:0000924               ectoderm  A16.254.425.273"
      ]
     },
     "execution_count": 8,
     "metadata": {},
     "output_type": "execute_result"
    }
   ],
   "source": [
    "uberon_mesh_df.head()"
   ]
  },
  {
   "cell_type": "code",
   "execution_count": 16,
   "metadata": {
    "collapsed": false
   },
   "outputs": [
    {
     "data": {
      "text/html": [
       "<div style=\"max-height:1000px;max-width:1500px;overflow:auto;\">\n",
       "<table border=\"1\" class=\"dataframe\">\n",
       "  <thead>\n",
       "    <tr style=\"text-align: right;\">\n",
       "      <th></th>\n",
       "      <th>uberon_id</th>\n",
       "      <th>positive_evidence</th>\n",
       "      <th>no_negative_evidence</th>\n",
       "    </tr>\n",
       "  </thead>\n",
       "  <tbody>\n",
       "    <tr>\n",
       "      <th>0</th>\n",
       "      <td>UBERON:0011624</td>\n",
       "      <td>1</td>\n",
       "      <td>1</td>\n",
       "    </tr>\n",
       "    <tr>\n",
       "      <th>1</th>\n",
       "      <td>UBERON:0001642</td>\n",
       "      <td>1</td>\n",
       "      <td>1</td>\n",
       "    </tr>\n",
       "    <tr>\n",
       "      <th>2</th>\n",
       "      <td>UBERON:0013695</td>\n",
       "      <td>0</td>\n",
       "      <td>1</td>\n",
       "    </tr>\n",
       "    <tr>\n",
       "      <th>3</th>\n",
       "      <td>UBERON:0001111</td>\n",
       "      <td>1</td>\n",
       "      <td>1</td>\n",
       "    </tr>\n",
       "    <tr>\n",
       "      <th>4</th>\n",
       "      <td>UBERON:2001813</td>\n",
       "      <td>0</td>\n",
       "      <td>0</td>\n",
       "    </tr>\n",
       "  </tbody>\n",
       "</table>\n",
       "</div>"
      ],
      "text/plain": [
       "        uberon_id  positive_evidence  no_negative_evidence\n",
       "0  UBERON:0011624                  1                     1\n",
       "1  UBERON:0001642                  1                     1\n",
       "2  UBERON:0013695                  0                     1\n",
       "3  UBERON:0001111                  1                     1\n",
       "4  UBERON:2001813                  0                     0"
      ]
     },
     "execution_count": 16,
     "metadata": {},
     "output_type": "execute_result"
    }
   ],
   "source": [
    "# Read human constraint table\n",
    "human_df = pandas.read_table('data/human-constraint.tsv')\n",
    "human_df = human_df[['uberon_id', 'positive_evidence', 'no_negative_evidence']]\n",
    "human_df.head()"
   ]
  },
  {
   "cell_type": "code",
   "execution_count": 13,
   "metadata": {
    "collapsed": false
   },
   "outputs": [],
   "source": [
    "# Merge uberon terms with mesh terms based on MeSH tree_numbers\n",
    "uberon_mesh_df.merge(mesh_df, how='left').to_csv('data/mesh-map-with-unmatched.tsv', index=False, sep='\\t')"
   ]
  },
  {
   "cell_type": "code",
   "execution_count": 15,
   "metadata": {
    "collapsed": false
   },
   "outputs": [],
   "source": [
    "# Merge uberon terms with mesh terms based on MeSH tree_numbers\n",
    "inner_df = uberon_mesh_df.merge(mesh_df, how='inner')\n",
    "inner_df = inner_df.merge(human_df, how='left')\n",
    "inner_df.to_csv('data/mesh-map.tsv', index=False, sep='\\t')"
   ]
  },
  {
   "cell_type": "code",
   "execution_count": null,
   "metadata": {
    "collapsed": false
   },
   "outputs": [],
   "source": []
  },
  {
   "cell_type": "markdown",
   "metadata": {},
   "source": [
    "# Cell Ontology"
   ]
  },
  {
   "cell_type": "code",
   "execution_count": 34,
   "metadata": {
    "collapsed": false
   },
   "outputs": [
    {
     "data": {
      "text/html": [
       "<div style=\"max-height:1000px;max-width:1500px;overflow:auto;\">\n",
       "<table border=\"1\" class=\"dataframe\">\n",
       "  <thead>\n",
       "    <tr style=\"text-align: right;\">\n",
       "      <th></th>\n",
       "      <th>cl_id</th>\n",
       "      <th>cl_name</th>\n",
       "      <th>matched_string</th>\n",
       "      <th>mesh_id</th>\n",
       "    </tr>\n",
       "  </thead>\n",
       "  <tbody>\n",
       "    <tr>\n",
       "      <th>0</th>\n",
       "      <td>CL:0000202</td>\n",
       "      <td>auditory hair cell</td>\n",
       "      <td>MESH:A08.663.650.250</td>\n",
       "      <td>None</td>\n",
       "    </tr>\n",
       "    <tr>\n",
       "      <th>1</th>\n",
       "      <td>CL:0000513</td>\n",
       "      <td>cardiac muscle myoblast</td>\n",
       "      <td>MESH:A11.635.470</td>\n",
       "      <td>D032386</td>\n",
       "    </tr>\n",
       "    <tr>\n",
       "      <th>2</th>\n",
       "      <td>CL:0000094</td>\n",
       "      <td>granulocyte</td>\n",
       "      <td>MESH:D006098</td>\n",
       "      <td>D006098</td>\n",
       "    </tr>\n",
       "    <tr>\n",
       "      <th>3</th>\n",
       "      <td>CL:0000094</td>\n",
       "      <td>granulocyte</td>\n",
       "      <td>MESH:A11.118.637.415</td>\n",
       "      <td>D006098</td>\n",
       "    </tr>\n",
       "    <tr>\n",
       "      <th>4</th>\n",
       "      <td>CL:0000499</td>\n",
       "      <td>stromal cell</td>\n",
       "      <td>MESH:A11.329.830</td>\n",
       "      <td>D017154</td>\n",
       "    </tr>\n",
       "  </tbody>\n",
       "</table>\n",
       "</div>"
      ],
      "text/plain": [
       "        cl_id                  cl_name        matched_string  mesh_id\n",
       "0  CL:0000202       auditory hair cell  MESH:A08.663.650.250     None\n",
       "1  CL:0000513  cardiac muscle myoblast      MESH:A11.635.470  D032386\n",
       "2  CL:0000094              granulocyte          MESH:D006098  D006098\n",
       "3  CL:0000094              granulocyte  MESH:A11.118.637.415  D006098\n",
       "4  CL:0000499             stromal cell      MESH:A11.329.830  D017154"
      ]
     },
     "execution_count": 34,
     "metadata": {},
     "output_type": "execute_result"
    }
   ],
   "source": [
    "import re\n",
    "mesh_pattern = re.compile(r'MESH:[A-Z][0-9.]+')\n",
    "\n",
    "# Extract MeSH cross-references\n",
    "rows = []\n",
    "for node, data in ontology.nodes_iter(data=True):\n",
    "    if not node.startswith('CL:'):\n",
    "        continue\n",
    "\n",
    "    matched_mesh = list()\n",
    "    for value in [data.get('def', '')] + data.get('synonym', []) + data.get('xref', []):\n",
    "        matched_mesh += re.findall(mesh_pattern, value)\n",
    "    for matched_mesh_id in set(matched_mesh):\n",
    "        mesh_id = matched_mesh_id\n",
    "        throwaway, mesh_id = mesh_id.split(':')\n",
    "        if not (mesh_id.startswith('D') and len(mesh_id) == 7 and '.' not in mesh_id):\n",
    "            mesh_id = tn_to_uid.get(mesh_id)\n",
    "        rows.append([node, data['name'], matched_mesh_id, mesh_id])\n",
    "\n",
    "cl_mesh_df = pandas.DataFrame(rows, columns=['cl_id', 'cl_name', 'matched_string', 'mesh_id']).drop_duplicates()\n",
    "cl_mesh_df.head()"
   ]
  },
  {
   "cell_type": "code",
   "execution_count": 44,
   "metadata": {
    "collapsed": false
   },
   "outputs": [],
   "source": [
    "cl_mesh_df.to_csv('data/CL-mesh-map-with-unmatched.tsv', index=False, sep='\\t')"
   ]
  },
  {
   "cell_type": "code",
   "execution_count": null,
   "metadata": {
    "collapsed": true
   },
   "outputs": [],
   "source": []
  }
 ],
 "metadata": {
  "kernelspec": {
   "display_name": "Python 3",
   "language": "python",
   "name": "python3"
  },
  "language_info": {
   "codemirror_mode": {
    "name": "ipython",
    "version": 3
   },
   "file_extension": ".py",
   "mimetype": "text/x-python",
   "name": "python",
   "nbconvert_exporter": "python",
   "pygments_lexer": "ipython3",
   "version": "3.4.3"
  }
 },
 "nbformat": 4,
 "nbformat_minor": 0
}
