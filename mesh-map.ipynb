{
 "cells": [
  {
   "cell_type": "code",
   "execution_count": 1,
   "metadata": {
    "collapsed": false
   },
   "outputs": [
    {
     "name": "stdout",
     "output_type": "stream",
     "text": [
      "--2015-05-19 16:08:42--  http://purl.obolibrary.org/obo/uberon/ext.obo\n",
      "Resolving purl.obolibrary.org (purl.obolibrary.org)... 132.174.1.35\n",
      "Connecting to purl.obolibrary.org (purl.obolibrary.org)|132.174.1.35|:80... connected.\n",
      "HTTP request sent, awaiting response... 302 Moved Temporarily\n",
      "Location: http://berkeleybop.org/ontologies/uberon/ext.obo [following]\n",
      "--2015-05-19 16:08:42--  http://berkeleybop.org/ontologies/uberon/ext.obo\n",
      "Resolving berkeleybop.org (berkeleybop.org)... 131.243.192.99\n",
      "Connecting to berkeleybop.org (berkeleybop.org)|131.243.192.99|:80... connected.\n",
      "HTTP request sent, awaiting response... 200 OK\n",
      "Length: 12821492 (12M) [text/plain]\n",
      "Server file no newer than local file ‘download/ext.obo’ -- not retrieving.\n",
      "\n"
     ]
    }
   ],
   "source": [
    "# Download .obo file\n",
    "! wget --timestamping --directory-prefix download/ http://purl.obolibrary.org/obo/uberon/ext.obo"
   ]
  },
  {
   "cell_type": "code",
   "execution_count": null,
   "metadata": {
    "collapsed": false
   },
   "outputs": [],
   "source": []
  },
  {
   "cell_type": "code",
   "execution_count": 30,
   "metadata": {
    "collapsed": true
   },
   "outputs": [],
   "source": [
    "import json\n",
    "import re\n",
    "\n",
    "import pandas\n",
    "import requests\n",
    "\n",
    "import obo"
   ]
  },
  {
   "cell_type": "code",
   "execution_count": 3,
   "metadata": {
    "collapsed": false
   },
   "outputs": [],
   "source": [
    "# Read the ontology into a networkx MultiDiGraph\n",
    "with open('download/ext.obo') as obo_file:\n",
    "    ontology = obo.read_obo(obo_file)"
   ]
  },
  {
   "cell_type": "code",
   "execution_count": null,
   "metadata": {
    "collapsed": true
   },
   "outputs": [],
   "source": [
    "# Read MeSH json\n",
    "url = 'https://raw.githubusercontent.com/dhimmel/mesh/1a1ab7f1d30cb8a21618b5239370863ccb6de547/data/mesh.json'\n",
    "response = requests.get(url)\n",
    "mesh = json.loads(response.text)\n",
    "\n",
    "# Extract (mesh_id, mesh_tree_number) pairs\n",
    "rows = []\n",
    "for term in mesh:\n",
    "    mesh_id = term['mesh_id']\n",
    "    mesh_name = term['mesh_name']\n",
    "    for tree_number in term['tree_numbers']:\n",
    "        rows.append([mesh_id, mesh_name, tree_number])\n",
    "\n",
    "mesh_df = pandas.DataFrame(rows, columns=['mesh_id', 'mesh_name', 'mesh_tree_number'])\n",
    "\n",
    "tn_to_uid = dict(zip(mesh_df.mesh_tree_number, mesh_df.mesh_id))"
   ]
  },
  {
   "cell_type": "markdown",
   "metadata": {},
   "source": [
    "# UBERON"
   ]
  },
  {
   "cell_type": "code",
   "execution_count": 45,
   "metadata": {
    "collapsed": false
   },
   "outputs": [],
   "source": [
    "# Extract MeSH cross-references\n",
    "rows = []\n",
    "for node, data in ontology.nodes_iter(data=True):\n",
    "    if not node.startswith('UBERON:'):\n",
    "        continue\n",
    "    xrefs = [xref.split(':', 1) for xref in data.get('xref', [])]\n",
    "    mesh_refs = [ref[1] for ref in xrefs if ref[0] == 'MESH']\n",
    "    if len(mesh_refs) != 1:\n",
    "        continue\n",
    "    rows.append([node, data['name'], mesh_refs[0]])\n",
    "\n",
    "uberon_mesh_df = pandas.DataFrame(rows, columns=['uberon_id', 'uberon_name', 'mesh_tree_number'])"
   ]
  },
  {
   "cell_type": "code",
   "execution_count": null,
   "metadata": {
    "collapsed": false
   },
   "outputs": [],
   "source": []
  },
  {
   "cell_type": "code",
   "execution_count": 48,
   "metadata": {
    "collapsed": false
   },
   "outputs": [],
   "source": [
    "# Merge uberon terms with mesh terms based on MeSH tree_numbers\n",
    "uberon_mesh_df.merge(mesh_df, how='left').to_csv('data/mesh-map-with-unmatched.tsv', index=False, sep='\\t')"
   ]
  },
  {
   "cell_type": "code",
   "execution_count": 50,
   "metadata": {
    "collapsed": false
   },
   "outputs": [],
   "source": [
    "# Merge uberon terms with mesh terms based on MeSH tree_numbers\n",
    "uberon_mesh_df.merge(mesh_df, how='inner').to_csv('data/mesh-map.tsv', index=False, sep='\\t')"
   ]
  },
  {
   "cell_type": "code",
   "execution_count": null,
   "metadata": {
    "collapsed": false
   },
   "outputs": [],
   "source": []
  },
  {
   "cell_type": "markdown",
   "metadata": {},
   "source": [
    "# Cell Ontology"
   ]
  },
  {
   "cell_type": "code",
   "execution_count": 34,
   "metadata": {
    "collapsed": false
   },
   "outputs": [
    {
     "data": {
      "text/html": [
       "<div style=\"max-height:1000px;max-width:1500px;overflow:auto;\">\n",
       "<table border=\"1\" class=\"dataframe\">\n",
       "  <thead>\n",
       "    <tr style=\"text-align: right;\">\n",
       "      <th></th>\n",
       "      <th>cl_id</th>\n",
       "      <th>cl_name</th>\n",
       "      <th>matched_string</th>\n",
       "      <th>mesh_id</th>\n",
       "    </tr>\n",
       "  </thead>\n",
       "  <tbody>\n",
       "    <tr>\n",
       "      <th>0</th>\n",
       "      <td>CL:0000202</td>\n",
       "      <td>auditory hair cell</td>\n",
       "      <td>MESH:A08.663.650.250</td>\n",
       "      <td>None</td>\n",
       "    </tr>\n",
       "    <tr>\n",
       "      <th>1</th>\n",
       "      <td>CL:0000513</td>\n",
       "      <td>cardiac muscle myoblast</td>\n",
       "      <td>MESH:A11.635.470</td>\n",
       "      <td>D032386</td>\n",
       "    </tr>\n",
       "    <tr>\n",
       "      <th>2</th>\n",
       "      <td>CL:0000094</td>\n",
       "      <td>granulocyte</td>\n",
       "      <td>MESH:D006098</td>\n",
       "      <td>D006098</td>\n",
       "    </tr>\n",
       "    <tr>\n",
       "      <th>3</th>\n",
       "      <td>CL:0000094</td>\n",
       "      <td>granulocyte</td>\n",
       "      <td>MESH:A11.118.637.415</td>\n",
       "      <td>D006098</td>\n",
       "    </tr>\n",
       "    <tr>\n",
       "      <th>4</th>\n",
       "      <td>CL:0000499</td>\n",
       "      <td>stromal cell</td>\n",
       "      <td>MESH:A11.329.830</td>\n",
       "      <td>D017154</td>\n",
       "    </tr>\n",
       "  </tbody>\n",
       "</table>\n",
       "</div>"
      ],
      "text/plain": [
       "        cl_id                  cl_name        matched_string  mesh_id\n",
       "0  CL:0000202       auditory hair cell  MESH:A08.663.650.250     None\n",
       "1  CL:0000513  cardiac muscle myoblast      MESH:A11.635.470  D032386\n",
       "2  CL:0000094              granulocyte          MESH:D006098  D006098\n",
       "3  CL:0000094              granulocyte  MESH:A11.118.637.415  D006098\n",
       "4  CL:0000499             stromal cell      MESH:A11.329.830  D017154"
      ]
     },
     "execution_count": 34,
     "metadata": {},
     "output_type": "execute_result"
    }
   ],
   "source": [
    "import re\n",
    "mesh_pattern = re.compile(r'MESH:[A-Z][0-9.]+')\n",
    "\n",
    "# Extract MeSH cross-references\n",
    "rows = []\n",
    "for node, data in ontology.nodes_iter(data=True):\n",
    "    if not node.startswith('CL:'):\n",
    "        continue\n",
    "\n",
    "    matched_mesh = list()\n",
    "    for value in [data.get('def', '')] + data.get('synonym', []) + data.get('xref', []):\n",
    "        matched_mesh += re.findall(mesh_pattern, value)\n",
    "    for matched_mesh_id in set(matched_mesh):\n",
    "        mesh_id = matched_mesh_id\n",
    "        throwaway, mesh_id = mesh_id.split(':')\n",
    "        if not (mesh_id.startswith('D') and len(mesh_id) == 7 and '.' not in mesh_id):\n",
    "            mesh_id = tn_to_uid.get(mesh_id)\n",
    "        rows.append([node, data['name'], matched_mesh_id, mesh_id])\n",
    "\n",
    "cl_mesh_df = pandas.DataFrame(rows, columns=['cl_id', 'cl_name', 'matched_string', 'mesh_id']).drop_duplicates()\n",
    "cl_mesh_df.head()"
   ]
  },
  {
   "cell_type": "code",
   "execution_count": 44,
   "metadata": {
    "collapsed": false
   },
   "outputs": [],
   "source": [
    "cl_mesh_df.to_csv('data/CL-mesh-map-with-unmatched.tsv', index=False, sep='\\t')"
   ]
  },
  {
   "cell_type": "code",
   "execution_count": null,
   "metadata": {
    "collapsed": true
   },
   "outputs": [],
   "source": []
  }
 ],
 "metadata": {
  "kernelspec": {
   "display_name": "Python 3",
   "language": "python",
   "name": "python3"
  },
  "language_info": {
   "codemirror_mode": {
    "name": "ipython",
    "version": 3
   },
   "file_extension": ".py",
   "mimetype": "text/x-python",
   "name": "python",
   "nbconvert_exporter": "python",
   "pygments_lexer": "ipython3",
   "version": "3.4.0"
  }
 },
 "nbformat": 4,
 "nbformat_minor": 0
}
