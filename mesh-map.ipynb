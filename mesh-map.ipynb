{
 "cells": [
  {
   "cell_type": "code",
   "execution_count": 1,
   "metadata": {
    "collapsed": false
   },
   "outputs": [
    {
     "name": "stdout",
     "output_type": "stream",
     "text": [
      "--2015-05-19 16:08:42--  http://purl.obolibrary.org/obo/uberon/ext.obo\n",
      "Resolving purl.obolibrary.org (purl.obolibrary.org)... 132.174.1.35\n",
      "Connecting to purl.obolibrary.org (purl.obolibrary.org)|132.174.1.35|:80... connected.\n",
      "HTTP request sent, awaiting response... 302 Moved Temporarily\n",
      "Location: http://berkeleybop.org/ontologies/uberon/ext.obo [following]\n",
      "--2015-05-19 16:08:42--  http://berkeleybop.org/ontologies/uberon/ext.obo\n",
      "Resolving berkeleybop.org (berkeleybop.org)... 131.243.192.99\n",
      "Connecting to berkeleybop.org (berkeleybop.org)|131.243.192.99|:80... connected.\n",
      "HTTP request sent, awaiting response... 200 OK\n",
      "Length: 12821492 (12M) [text/plain]\n",
      "Server file no newer than local file ‘download/ext.obo’ -- not retrieving.\n",
      "\n"
     ]
    }
   ],
   "source": [
    "# Download .obo file\n",
    "! wget --timestamping --directory-prefix download/ http://purl.obolibrary.org/obo/uberon/ext.obo"
   ]
  },
  {
   "cell_type": "code",
   "execution_count": null,
   "metadata": {
    "collapsed": false
   },
   "outputs": [],
   "source": []
  },
  {
   "cell_type": "code",
   "execution_count": 2,
   "metadata": {
    "collapsed": true
   },
   "outputs": [],
   "source": [
    "import json\n",
    "\n",
    "import pandas\n",
    "import requests\n",
    "\n",
    "import obo"
   ]
  },
  {
   "cell_type": "code",
   "execution_count": 3,
   "metadata": {
    "collapsed": false
   },
   "outputs": [],
   "source": [
    "# Read the ontology into a networkx MultiDiGraph\n",
    "with open('download/ext.obo') as obo_file:\n",
    "    ontology = obo.read_obo(obo_file)"
   ]
  },
  {
   "cell_type": "code",
   "execution_count": 4,
   "metadata": {
    "collapsed": false
   },
   "outputs": [],
   "source": [
    "# Extract MeSH cross-references\n",
    "rows = []\n",
    "for node, data in ontology.nodes_iter(data=True):\n",
    "    if not node.startswith('UBERON:'):\n",
    "        continue\n",
    "    xrefs = [xref.split(':', 1) for xref in data.get('xref', [])]\n",
    "    mesh_refs = [ref[1] for ref in xrefs if ref[0] == 'MESH']\n",
    "    if len(mesh_refs) != 1:\n",
    "        continue\n",
    "    rows.append([node, data['name'], mesh_refs[0]])\n",
    "\n",
    "uberon_mesh_df = pandas.DataFrame(rows, columns=['uberon_id', 'uberon_name', 'mesh_tree_number'])"
   ]
  },
  {
   "cell_type": "code",
   "execution_count": 5,
   "metadata": {
    "collapsed": false
   },
   "outputs": [],
   "source": [
    "# Read MeSH json\n",
    "url = 'https://raw.githubusercontent.com/dhimmel/mesh/1a1ab7f1d30cb8a21618b5239370863ccb6de547/data/mesh.json'\n",
    "response = requests.get(url)\n",
    "mesh = json.loads(response.text)"
   ]
  },
  {
   "cell_type": "code",
   "execution_count": 6,
   "metadata": {
    "collapsed": false
   },
   "outputs": [],
   "source": [
    "# Extract (mesh_id, mesh_tree_number) pairs\n",
    "rows = []\n",
    "for term in mesh:\n",
    "    mesh_id = term['mesh_id']\n",
    "    mesh_name = term['mesh_name']\n",
    "    for tree_number in term['tree_numbers']:\n",
    "        rows.append([mesh_id, mesh_name, tree_number])\n",
    "\n",
    "mesh_df = pandas.DataFrame(rows, columns=['mesh_id', 'mesh_name', 'mesh_tree_number'])"
   ]
  },
  {
   "cell_type": "code",
   "execution_count": 7,
   "metadata": {
    "collapsed": false
   },
   "outputs": [
    {
     "data": {
      "text/html": [
       "<div style=\"max-height:1000px;max-width:1500px;overflow:auto;\">\n",
       "<table border=\"1\" class=\"dataframe\">\n",
       "  <thead>\n",
       "    <tr style=\"text-align: right;\">\n",
       "      <th></th>\n",
       "      <th>uberon_id</th>\n",
       "      <th>uberon_name</th>\n",
       "      <th>mesh_tree_number</th>\n",
       "      <th>mesh_id</th>\n",
       "      <th>mesh_name</th>\n",
       "    </tr>\n",
       "  </thead>\n",
       "  <tbody>\n",
       "    <tr>\n",
       "      <th>0</th>\n",
       "      <td>UBERON:0001577</td>\n",
       "      <td>facial muscle</td>\n",
       "      <td>A02.633.567.400</td>\n",
       "      <td>D005152</td>\n",
       "      <td>Facial Muscles</td>\n",
       "    </tr>\n",
       "    <tr>\n",
       "      <th>1</th>\n",
       "      <td>UBERON:0001681</td>\n",
       "      <td>nasal bone</td>\n",
       "      <td>A02.835.232.781.324.665</td>\n",
       "      <td>D009295</td>\n",
       "      <td>Nasal Bone</td>\n",
       "    </tr>\n",
       "    <tr>\n",
       "      <th>2</th>\n",
       "      <td>UBERON:0001264</td>\n",
       "      <td>pancreas</td>\n",
       "      <td>A03.734</td>\n",
       "      <td>D010179</td>\n",
       "      <td>Pancreas</td>\n",
       "    </tr>\n",
       "    <tr>\n",
       "      <th>3</th>\n",
       "      <td>UBERON:0002356</td>\n",
       "      <td>perineum</td>\n",
       "      <td>A01.719</td>\n",
       "      <td>D010502</td>\n",
       "      <td>Perineum</td>\n",
       "    </tr>\n",
       "    <tr>\n",
       "      <th>4</th>\n",
       "      <td>UBERON:0001688</td>\n",
       "      <td>incus bone</td>\n",
       "      <td>A09.246.397.247.362</td>\n",
       "      <td>D007188</td>\n",
       "      <td>Incus</td>\n",
       "    </tr>\n",
       "  </tbody>\n",
       "</table>\n",
       "</div>"
      ],
      "text/plain": [
       "        uberon_id    uberon_name         mesh_tree_number  mesh_id  \\\n",
       "0  UBERON:0001577  facial muscle          A02.633.567.400  D005152   \n",
       "1  UBERON:0001681     nasal bone  A02.835.232.781.324.665  D009295   \n",
       "2  UBERON:0001264       pancreas                  A03.734  D010179   \n",
       "3  UBERON:0002356       perineum                  A01.719  D010502   \n",
       "4  UBERON:0001688     incus bone      A09.246.397.247.362  D007188   \n",
       "\n",
       "        mesh_name  \n",
       "0  Facial Muscles  \n",
       "1      Nasal Bone  \n",
       "2        Pancreas  \n",
       "3        Perineum  \n",
       "4           Incus  "
      ]
     },
     "execution_count": 7,
     "metadata": {},
     "output_type": "execute_result"
    }
   ],
   "source": [
    "# Merge uberon terms with mesh terms based on MeSH tree_numbers\n",
    "uberon_mesh_df = uberon_mesh_df.merge(mesh_df, how='inner')\n",
    "uberon_mesh_df.head()"
   ]
  },
  {
   "cell_type": "code",
   "execution_count": 9,
   "metadata": {
    "collapsed": false
   },
   "outputs": [],
   "source": [
    "# Save mapping\n",
    "uberon_mesh_df.to_csv('data/mesh-map.tsv', index=False, sep='\\t')"
   ]
  },
  {
   "cell_type": "code",
   "execution_count": null,
   "metadata": {
    "collapsed": true
   },
   "outputs": [],
   "source": []
  }
 ],
 "metadata": {
  "kernelspec": {
   "display_name": "Python 3",
   "language": "python",
   "name": "python3"
  },
  "language_info": {
   "codemirror_mode": {
    "name": "ipython",
    "version": 3
   },
   "file_extension": ".py",
   "mimetype": "text/x-python",
   "name": "python",
   "nbconvert_exporter": "python",
   "pygments_lexer": "ipython3",
   "version": "3.4.0"
  }
 },
 "nbformat": 4,
 "nbformat_minor": 0
}
