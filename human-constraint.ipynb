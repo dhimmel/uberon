{
 "cells": [
  {
   "cell_type": "code",
   "execution_count": 5,
   "metadata": {
    "collapsed": false
   },
   "outputs": [],
   "source": [
    "import pandas\n",
    "\n",
    "import obo"
   ]
  },
  {
   "cell_type": "code",
   "execution_count": null,
   "metadata": {
    "collapsed": false
   },
   "outputs": [],
   "source": []
  },
  {
   "cell_type": "code",
   "execution_count": 6,
   "metadata": {
    "collapsed": false
   },
   "outputs": [],
   "source": []
  },
  {
   "cell_type": "code",
   "execution_count": 7,
   "metadata": {
    "collapsed": false
   },
   "outputs": [],
   "source": [
    "# Read the ontology into a networkx MultiDiGraph\n",
    "with open('download/basic.obo') as obo_file:\n",
    "    ontology = obo.read_obo(obo_file)"
   ]
  },
  {
   "cell_type": "code",
   "execution_count": 8,
   "metadata": {
    "collapsed": false
   },
   "outputs": [
    {
     "data": {
      "text/plain": [
       "{'DHBA', 'EHDAA2', 'FMA', 'HBA', 'HsapDv'}"
      ]
     },
     "execution_count": 8,
     "metadata": {},
     "output_type": "execute_result"
    }
   ],
   "source": [
    "# Extract xref resources that indication human terms\n",
    "human_xrefs = set()\n",
    "for x in ontology.graph['treat-xrefs-as-reverse-genus-differentia']:\n",
    "    resource, relationship, genus = x.split(' ')\n",
    "    if genus == 'NCBITaxon:9606':\n",
    "        human_xrefs.add(resource)\n",
    "human_xrefs"
   ]
  },
  {
   "cell_type": "code",
   "execution_count": 9,
   "metadata": {
    "collapsed": true
   },
   "outputs": [],
   "source": [
    "# Parse xrefs and add as node attribute\n",
    "for node, data in ontology.nodes_iter(data=True):\n",
    "    data['xrefs'] = [xref.split(':', 1) for xref in data.get('xref', [])]"
   ]
  },
  {
   "cell_type": "code",
   "execution_count": 11,
   "metadata": {
    "collapsed": true
   },
   "outputs": [],
   "source": [
    "def get_children(graph, node, in_keys = {'is_a', 'part_of'}, out_keys = set()):\n",
    "    children = set()\n",
    "    for u, v, key in graph.in_edges(node, keys=True):\n",
    "        if key in in_keys:\n",
    "            children.add(u)\n",
    "            children |= get_children(graph, u)\n",
    "    for u, v, key in graph.out_edges(node, keys=True):\n",
    "        if key in out_keys:\n",
    "            children.add(v)\n",
    "            children |= get_children(graph, v)\n",
    "    return children"
   ]
  },
  {
   "cell_type": "code",
   "execution_count": 12,
   "metadata": {
    "collapsed": false
   },
   "outputs": [],
   "source": [
    "# Extract MeSH cross-references\n",
    "rows = []\n",
    "for node, data in ontology.nodes_iter(data=True):\n",
    "    if not node.startswith('UBERON:'):\n",
    "        continue\n",
    "    xrefs = data['xrefs']\n",
    "    \n",
    "    # Find whether term is in humans by seeing if node or its children\n",
    "    # xref specific human terminologies\n",
    "    children = get_children(ontology, node, in_keys = {'is_a', 'part_of', 'develops_from'})\n",
    "    child_xrefs = set()\n",
    "    for child in children | {node}:\n",
    "        child_xrefs |= {xref[0] for xref in ontology.node[child]['xrefs']}\n",
    "    human = int(bool(child_xrefs & human_xrefs))\n",
    "    \n",
    "    rows.append([node, data['name'], human])\n",
    "\n",
    "pos_df = pandas.DataFrame(rows, columns=['uberon_id', 'uberon_name', 'positive_evidence'])"
   ]
  },
  {
   "cell_type": "code",
   "execution_count": 26,
   "metadata": {
    "collapsed": false
   },
   "outputs": [],
   "source": [
    "# Read negative evidence df\n",
    "neg_df = pandas.read_table('download/ext_human_constraints.tsv')\n",
    "neg_df = neg_df.rename(columns={'Uberon ID': 'uberon_id', '9606': 'no_negative_evidence'})\n",
    "neg_df = neg_df[['uberon_id', 'no_negative_evidence']]\n",
    "neg_df.no_negative_evidence = (neg_df.no_negative_evidence  == 'T').astype(int)"
   ]
  },
  {
   "cell_type": "code",
   "execution_count": null,
   "metadata": {
    "collapsed": false
   },
   "outputs": [],
   "source": []
  },
  {
   "cell_type": "code",
   "execution_count": 30,
   "metadata": {
    "collapsed": false,
    "scrolled": true
   },
   "outputs": [
    {
     "data": {
      "text/html": [
       "<div style=\"max-height:1000px;max-width:1500px;overflow:auto;\">\n",
       "<table border=\"1\" class=\"dataframe\">\n",
       "  <thead>\n",
       "    <tr style=\"text-align: right;\">\n",
       "      <th></th>\n",
       "      <th>uberon_id</th>\n",
       "      <th>uberon_name</th>\n",
       "      <th>positive_evidence</th>\n",
       "      <th>no_negative_evidence</th>\n",
       "    </tr>\n",
       "  </thead>\n",
       "  <tbody>\n",
       "    <tr>\n",
       "      <th>0</th>\n",
       "      <td>UBERON:0011624</td>\n",
       "      <td>superior horn of thyroid cartilage</td>\n",
       "      <td>1</td>\n",
       "      <td>1</td>\n",
       "    </tr>\n",
       "    <tr>\n",
       "      <th>1</th>\n",
       "      <td>UBERON:0001642</td>\n",
       "      <td>superior sagittal sinus</td>\n",
       "      <td>1</td>\n",
       "      <td>1</td>\n",
       "    </tr>\n",
       "    <tr>\n",
       "      <th>2</th>\n",
       "      <td>UBERON:0013695</td>\n",
       "      <td>colon endothelium</td>\n",
       "      <td>0</td>\n",
       "      <td>1</td>\n",
       "    </tr>\n",
       "    <tr>\n",
       "      <th>3</th>\n",
       "      <td>UBERON:0001111</td>\n",
       "      <td>intercostal muscle</td>\n",
       "      <td>1</td>\n",
       "      <td>1</td>\n",
       "    </tr>\n",
       "    <tr>\n",
       "      <th>4</th>\n",
       "      <td>UBERON:2001813</td>\n",
       "      <td>preopercular sensory canal</td>\n",
       "      <td>0</td>\n",
       "      <td>0</td>\n",
       "    </tr>\n",
       "  </tbody>\n",
       "</table>\n",
       "</div>"
      ],
      "text/plain": [
       "        uberon_id                         uberon_name  positive_evidence  \\\n",
       "0  UBERON:0011624  superior horn of thyroid cartilage                  1   \n",
       "1  UBERON:0001642             superior sagittal sinus                  1   \n",
       "2  UBERON:0013695                   colon endothelium                  0   \n",
       "3  UBERON:0001111                  intercostal muscle                  1   \n",
       "4  UBERON:2001813          preopercular sensory canal                  0   \n",
       "\n",
       "   no_negative_evidence  \n",
       "0                     1  \n",
       "1                     1  \n",
       "2                     1  \n",
       "3                     1  \n",
       "4                     0  "
      ]
     },
     "execution_count": 30,
     "metadata": {},
     "output_type": "execute_result"
    }
   ],
   "source": [
    "human_df = pos_df.merge(neg_df)\n",
    "human_df.to_csv('data/human-constraint.tsv', sep='\\t', index=False)\n",
    "human_df.head()"
   ]
  },
  {
   "cell_type": "code",
   "execution_count": null,
   "metadata": {
    "collapsed": true
   },
   "outputs": [],
   "source": []
  }
 ],
 "metadata": {
  "kernelspec": {
   "display_name": "Python 3",
   "language": "python",
   "name": "python3"
  },
  "language_info": {
   "codemirror_mode": {
    "name": "ipython",
    "version": 3
   },
   "file_extension": ".py",
   "mimetype": "text/x-python",
   "name": "python",
   "nbconvert_exporter": "python",
   "pygments_lexer": "ipython3",
   "version": "3.4.3"
  }
 },
 "nbformat": 4,
 "nbformat_minor": 0
}
