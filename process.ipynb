{
 "cells": [
  {
   "cell_type": "markdown",
   "metadata": {},
   "source": [
    "## Download and process the Uberon ontology"
   ]
  },
  {
   "cell_type": "code",
   "execution_count": 1,
   "metadata": {
    "collapsed": true
   },
   "outputs": [],
   "source": [
    "import collections\n",
    "import re\n",
    "\n",
    "import pandas\n",
    "\n",
    "import obo"
   ]
  },
  {
   "cell_type": "code",
   "execution_count": 2,
   "metadata": {
    "collapsed": false
   },
   "outputs": [
    {
     "name": "stdout",
     "output_type": "stream",
     "text": [
      "--2015-07-29 18:26:38--  http://purl.obolibrary.org/obo/uberon/ext.obo\n",
      "Resolving purl.obolibrary.org (purl.obolibrary.org)... 132.174.1.35\n",
      "Connecting to purl.obolibrary.org (purl.obolibrary.org)|132.174.1.35|:80... connected.\n",
      "HTTP request sent, awaiting response... 302 Moved Temporarily\n",
      "Location: http://berkeleybop.org/ontologies/uberon/ext.obo [following]\n",
      "--2015-07-29 18:26:38--  http://berkeleybop.org/ontologies/uberon/ext.obo\n",
      "Resolving berkeleybop.org (berkeleybop.org)... 131.243.192.99\n",
      "Connecting to berkeleybop.org (berkeleybop.org)|131.243.192.99|:80... connected.\n",
      "HTTP request sent, awaiting response... 200 OK\n",
      "Length: 12973724 (12M) [text/plain]\n",
      "Server file no newer than local file ‘download/ext.obo’ -- not retrieving.\n",
      "\n",
      "--2015-07-29 18:26:38--  http://purl.obolibrary.org/obo/uberon/basic.obo\n",
      "Resolving purl.obolibrary.org (purl.obolibrary.org)... 132.174.1.35\n",
      "Connecting to purl.obolibrary.org (purl.obolibrary.org)|132.174.1.35|:80... connected.\n",
      "HTTP request sent, awaiting response... 302 Moved Temporarily\n",
      "Location: http://berkeleybop.org/ontologies/uberon/basic.obo [following]\n",
      "--2015-07-29 18:26:38--  http://berkeleybop.org/ontologies/uberon/basic.obo\n",
      "Resolving berkeleybop.org (berkeleybop.org)... 131.243.192.99\n",
      "Connecting to berkeleybop.org (berkeleybop.org)|131.243.192.99|:80... connected.\n",
      "HTTP request sent, awaiting response... 200 OK\n",
      "Length: 11688490 (11M) [text/plain]\n",
      "Server file no newer than local file ‘download/basic.obo’ -- not retrieving.\n",
      "\n"
     ]
    }
   ],
   "source": [
    "# Download most recent uberon release\n",
    "! wget --timestamping --directory-prefix download/ http://purl.obolibrary.org/obo/uberon/ext.obo\n",
    "! wget --timestamping --directory-prefix download/ http://purl.obolibrary.org/obo/uberon/basic.obo"
   ]
  },
  {
   "cell_type": "markdown",
   "metadata": {},
   "source": [
    "## Read and process the ontology"
   ]
  },
  {
   "cell_type": "code",
   "execution_count": 3,
   "metadata": {
    "collapsed": false
   },
   "outputs": [
    {
     "data": {
      "text/plain": [
       "{'develops_from': 1413,\n",
       " 'immediate_transformation_of': 71,\n",
       " 'is_a': 20592,\n",
       " 'part_of': 10715,\n",
       " 'transformation_of': 43}"
      ]
     },
     "execution_count": 3,
     "metadata": {},
     "output_type": "execute_result"
    }
   ],
   "source": [
    "# Read obo into graph\n",
    "with open('download/basic.obo') as read_file:\n",
    "    basic = obo.read_obo(read_file)\n",
    "dict(collections.Counter(key for u, v, key in basic.edges(keys=True)))"
   ]
  },
  {
   "cell_type": "code",
   "execution_count": 4,
   "metadata": {
    "collapsed": false
   },
   "outputs": [],
   "source": [
    "# Extract information from the graph\n",
    "term_rows = []\n",
    "xref_rows = []\n",
    "subset_rows = []\n",
    "\n",
    "for node, data in basic.nodes(data=True):\n",
    "    term_rows.append((node, data['name']))\n",
    "    \n",
    "    for xref in data.get('xref', []):\n",
    "        xref_rows.append((node, xref))\n",
    "\n",
    "    for subset in data.get('subset', []):\n",
    "        subset_rows.append((node, subset))\n",
    "\n",
    "term_df = pandas.DataFrame(term_rows, columns=['uberon_id', 'uberon_name'])\n",
    "xref_df = pandas.DataFrame(xref_rows, columns=['uberon_id', 'xref'])\n",
    "subset_df = pandas.DataFrame(subset_rows, columns=['uberon_id', 'subset'])"
   ]
  },
  {
   "cell_type": "code",
   "execution_count": 5,
   "metadata": {
    "collapsed": false
   },
   "outputs": [
    {
     "data": {
      "text/html": [
       "<div>\n",
       "<table border=\"1\" class=\"dataframe\">\n",
       "  <thead>\n",
       "    <tr style=\"text-align: right;\">\n",
       "      <th></th>\n",
       "      <th>uberon_id</th>\n",
       "      <th>uberon_name</th>\n",
       "    </tr>\n",
       "  </thead>\n",
       "  <tbody>\n",
       "    <tr>\n",
       "      <th>0</th>\n",
       "      <td>UBERON:0035368</td>\n",
       "      <td>anterior surface of kidney</td>\n",
       "    </tr>\n",
       "    <tr>\n",
       "      <th>1</th>\n",
       "      <td>UBERON:4000003</td>\n",
       "      <td>permanent cartilage</td>\n",
       "    </tr>\n",
       "    <tr>\n",
       "      <th>2</th>\n",
       "      <td>UBERON:0004617</td>\n",
       "      <td>lumbar vertebra 1</td>\n",
       "    </tr>\n",
       "    <tr>\n",
       "      <th>3</th>\n",
       "      <td>UBERON:0014933</td>\n",
       "      <td>periventricular gray matter</td>\n",
       "    </tr>\n",
       "    <tr>\n",
       "      <th>4</th>\n",
       "      <td>UBERON:0011149</td>\n",
       "      <td>Marshall's gland</td>\n",
       "    </tr>\n",
       "  </tbody>\n",
       "</table>\n",
       "</div>"
      ],
      "text/plain": [
       "        uberon_id                  uberon_name\n",
       "0  UBERON:0035368   anterior surface of kidney\n",
       "1  UBERON:4000003          permanent cartilage\n",
       "2  UBERON:0004617            lumbar vertebra 1\n",
       "3  UBERON:0014933  periventricular gray matter\n",
       "4  UBERON:0011149             Marshall's gland"
      ]
     },
     "execution_count": 5,
     "metadata": {},
     "output_type": "execute_result"
    }
   ],
   "source": [
    "# Create a dataframe of Uberon terms\n",
    "term_df.to_csv('data/terms.tsv', sep='\\t', index=False)\n",
    "term_df.head()"
   ]
  },
  {
   "cell_type": "code",
   "execution_count": 6,
   "metadata": {
    "collapsed": false
   },
   "outputs": [
    {
     "data": {
      "text/html": [
       "<div>\n",
       "<table border=\"1\" class=\"dataframe\">\n",
       "  <thead>\n",
       "    <tr style=\"text-align: right;\">\n",
       "      <th></th>\n",
       "      <th>uberon_id</th>\n",
       "      <th>xref</th>\n",
       "    </tr>\n",
       "  </thead>\n",
       "  <tbody>\n",
       "    <tr>\n",
       "      <th>0</th>\n",
       "      <td>UBERON:0035368</td>\n",
       "      <td>FMA:15589</td>\n",
       "    </tr>\n",
       "    <tr>\n",
       "      <th>1</th>\n",
       "      <td>UBERON:0035368</td>\n",
       "      <td>http://linkedlifedata.com/resource/umls/id/C02...</td>\n",
       "    </tr>\n",
       "    <tr>\n",
       "      <th>2</th>\n",
       "      <td>UBERON:0035368</td>\n",
       "      <td>http://ncicb.nci.nih.gov/xml/owl/EVS/Anterior_...</td>\n",
       "    </tr>\n",
       "    <tr>\n",
       "      <th>3</th>\n",
       "      <td>UBERON:0035368</td>\n",
       "      <td>http://www.snomedbrowser.com/Codes/Details/279...</td>\n",
       "    </tr>\n",
       "    <tr>\n",
       "      <th>4</th>\n",
       "      <td>UBERON:0004617</td>\n",
       "      <td>EMAPA:19472</td>\n",
       "    </tr>\n",
       "  </tbody>\n",
       "</table>\n",
       "</div>"
      ],
      "text/plain": [
       "        uberon_id                                               xref\n",
       "0  UBERON:0035368                                          FMA:15589\n",
       "1  UBERON:0035368  http://linkedlifedata.com/resource/umls/id/C02...\n",
       "2  UBERON:0035368  http://ncicb.nci.nih.gov/xml/owl/EVS/Anterior_...\n",
       "3  UBERON:0035368  http://www.snomedbrowser.com/Codes/Details/279...\n",
       "4  UBERON:0004617                                        EMAPA:19472"
      ]
     },
     "execution_count": 6,
     "metadata": {},
     "output_type": "execute_result"
    }
   ],
   "source": [
    "# Update MESH IDs that are tree numbers\n",
    "url = 'https://raw.githubusercontent.com/dhimmel/mesh/b6893d6502deeaa0f702128d9c8bbddff6b4c755/data/tree-numbers.tsv'\n",
    "tree_number_df = pandas.read_table(url)\n",
    "tn_to_id = dict(zip(tree_number_df.mesh_tree_number, tree_number_df.mesh_id))\n",
    "\n",
    "def update_xref(x):\n",
    "    vocab, identifier = x.split(':', 1)\n",
    "    if vocab == 'MESH':\n",
    "        if re.search('D[0-9]{6}', identifier):\n",
    "            return x\n",
    "        return tn_to_id.get(identifier)\n",
    "    return x\n",
    "\n",
    "xref_df.xref = xref_df.xref.map(update_xref)\n",
    "\n",
    "# Create a dataframe of cross-references\n",
    "xref_df.to_csv('data/xref.tsv', sep='\\t', index=False)\n",
    "xref_df.head()"
   ]
  },
  {
   "cell_type": "code",
   "execution_count": 7,
   "metadata": {
    "collapsed": false
   },
   "outputs": [
    {
     "data": {
      "text/html": [
       "<div>\n",
       "<table border=\"1\" class=\"dataframe\">\n",
       "  <thead>\n",
       "    <tr style=\"text-align: right;\">\n",
       "      <th></th>\n",
       "      <th>uberon_id</th>\n",
       "      <th>subset</th>\n",
       "    </tr>\n",
       "  </thead>\n",
       "  <tbody>\n",
       "    <tr>\n",
       "      <th>0</th>\n",
       "      <td>UBERON:0004617</td>\n",
       "      <td>defined_by_ordinal_series</td>\n",
       "    </tr>\n",
       "    <tr>\n",
       "      <th>1</th>\n",
       "      <td>UBERON:0005561</td>\n",
       "      <td>vertebrate_core</td>\n",
       "    </tr>\n",
       "    <tr>\n",
       "      <th>2</th>\n",
       "      <td>UBERON:0002895</td>\n",
       "      <td>uberon_slim</td>\n",
       "    </tr>\n",
       "    <tr>\n",
       "      <th>3</th>\n",
       "      <td>UBERON:0001716</td>\n",
       "      <td>pheno_slim</td>\n",
       "    </tr>\n",
       "    <tr>\n",
       "      <th>4</th>\n",
       "      <td>UBERON:0001716</td>\n",
       "      <td>uberon_slim</td>\n",
       "    </tr>\n",
       "  </tbody>\n",
       "</table>\n",
       "</div>"
      ],
      "text/plain": [
       "        uberon_id                     subset\n",
       "0  UBERON:0004617  defined_by_ordinal_series\n",
       "1  UBERON:0005561            vertebrate_core\n",
       "2  UBERON:0002895                uberon_slim\n",
       "3  UBERON:0001716                 pheno_slim\n",
       "4  UBERON:0001716                uberon_slim"
      ]
     },
     "execution_count": 7,
     "metadata": {},
     "output_type": "execute_result"
    }
   ],
   "source": [
    "# Create a dataframe of term subsets\n",
    "xref_df.to_csv('data/subset.tsv', sep='\\t', index=False)\n",
    "subset_dict = {subset: set(df.uberon_id) for subset, df in subset_df.groupby('subset')}\n",
    "subset_df.head()"
   ]
  },
  {
   "cell_type": "markdown",
   "metadata": {},
   "source": [
    "## Create `hetio-slim`\n",
    "\n",
    "`hetio-slim` is a subset of terms created for our [specific project](https://dx.doi.org/10.15363/thinklab.4):\n",
    "\n",
    "+ potentially human-relevant (definitively non-human terms are removed)\n",
    "+ in `uberon_slim`\n",
    "+ not in `non_informative`, `upper_level`, `grouping_class`\n",
    "+ have a MeSH cross-reference"
   ]
  },
  {
   "cell_type": "code",
   "execution_count": 8,
   "metadata": {
    "collapsed": false
   },
   "outputs": [],
   "source": [
    "human_df = pandas.read_table('data/human-constraint.tsv')\n",
    "human_ids = set(human_df.query('no_negative_evidence == 1').uberon_id)"
   ]
  },
  {
   "cell_type": "code",
   "execution_count": 9,
   "metadata": {
    "collapsed": false
   },
   "outputs": [
    {
     "data": {
      "text/html": [
       "<div>\n",
       "<table border=\"1\" class=\"dataframe\">\n",
       "  <thead>\n",
       "    <tr style=\"text-align: right;\">\n",
       "      <th></th>\n",
       "      <th>uberon_id</th>\n",
       "      <th>uberon_name</th>\n",
       "      <th>mesh_id</th>\n",
       "    </tr>\n",
       "  </thead>\n",
       "  <tbody>\n",
       "    <tr>\n",
       "      <th>43</th>\n",
       "      <td>UBERON:0001716</td>\n",
       "      <td>secondary palate</td>\n",
       "      <td>D010159</td>\n",
       "    </tr>\n",
       "    <tr>\n",
       "      <th>120</th>\n",
       "      <td>UBERON:0001908</td>\n",
       "      <td>optic tract</td>\n",
       "      <td>D014795</td>\n",
       "    </tr>\n",
       "    <tr>\n",
       "      <th>230</th>\n",
       "      <td>UBERON:0002286</td>\n",
       "      <td>third ventricle</td>\n",
       "      <td>D020542</td>\n",
       "    </tr>\n",
       "    <tr>\n",
       "      <th>312</th>\n",
       "      <td>UBERON:0002349</td>\n",
       "      <td>myocardium</td>\n",
       "      <td>D009206</td>\n",
       "    </tr>\n",
       "    <tr>\n",
       "      <th>449</th>\n",
       "      <td>UBERON:0000978</td>\n",
       "      <td>leg</td>\n",
       "      <td>D035002</td>\n",
       "    </tr>\n",
       "  </tbody>\n",
       "</table>\n",
       "</div>"
      ],
      "text/plain": [
       "          uberon_id       uberon_name  mesh_id\n",
       "43   UBERON:0001716  secondary palate  D010159\n",
       "120  UBERON:0001908       optic tract  D014795\n",
       "230  UBERON:0002286   third ventricle  D020542\n",
       "312  UBERON:0002349        myocardium  D009206\n",
       "449  UBERON:0000978               leg  D035002"
      ]
     },
     "execution_count": 9,
     "metadata": {},
     "output_type": "execute_result"
    }
   ],
   "source": [
    "merged_df = term_df[term_df.uberon_id.isin(human_ids)].merge(xref_df)\n",
    "merged_df['mesh_id'] = merged_df.xref.map(lambda x: x.split(':', 1)[1] if x and x.startswith('MESH:') else '')\n",
    "merged_df = merged_df[merged_df.mesh_id != ''].drop('xref', 1)\n",
    "exclude = subset_dict['non_informative'] | subset_dict['upper_level'] | subset_dict['grouping_class']\n",
    "merged_df = merged_df[-merged_df.uberon_id.isin(exclude)]\n",
    "merged_df = merged_df[merged_df.uberon_id.isin(subset_dict['uberon_slim'])]\n",
    "merged_df.head()"
   ]
  },
  {
   "cell_type": "code",
   "execution_count": 10,
   "metadata": {
    "collapsed": false
   },
   "outputs": [
    {
     "data": {
      "text/plain": [
       "402"
      ]
     },
     "execution_count": 10,
     "metadata": {},
     "output_type": "execute_result"
    }
   ],
   "source": [
    "len(merged_df)"
   ]
  },
  {
   "cell_type": "code",
   "execution_count": 11,
   "metadata": {
    "collapsed": false
   },
   "outputs": [],
   "source": [
    "# Add mesh_name column\n",
    "url = 'https://raw.githubusercontent.com/dhimmel/mesh/b6893d6502deeaa0f702128d9c8bbddff6b4c755/data/terms.tsv'\n",
    "mesh_df = pandas.read_table(url)\n",
    "merged_df = merged_df.merge(mesh_df)\n",
    "assert not any(merged_df.uberon_id.duplicated())"
   ]
  },
  {
   "cell_type": "code",
   "execution_count": 12,
   "metadata": {
    "collapsed": true
   },
   "outputs": [],
   "source": [
    "# Save hetio-slim as a tsv\n",
    "merged_df.to_csv('data/hetio-slim.tsv', index=False, sep='\\t')"
   ]
  }
 ],
 "metadata": {
  "kernelspec": {
   "display_name": "Python 3",
   "language": "python",
   "name": "python3"
  },
  "language_info": {
   "codemirror_mode": {
    "name": "ipython",
    "version": 3
   },
   "file_extension": ".py",
   "mimetype": "text/x-python",
   "name": "python",
   "nbconvert_exporter": "python",
   "pygments_lexer": "ipython3",
   "version": "3.4.3"
  }
 },
 "nbformat": 4,
 "nbformat_minor": 0
}
